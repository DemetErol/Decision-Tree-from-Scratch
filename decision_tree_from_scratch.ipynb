{
 "cells": [
  {
   "cell_type": "code",
   "execution_count": 1,
   "metadata": {
    "id": "NCBCAdEs6Thv"
   },
   "outputs": [],
   "source": [
    "#import libraries\n",
    "from sklearn.datasets import fetch_20newsgroups\n",
    "import numpy as np\n",
    "import pandas as pd\n",
    "import math"
   ]
  },
  {
   "cell_type": "code",
   "execution_count": 2,
   "metadata": {
    "id": "Za7FuIPT6U1w"
   },
   "outputs": [],
   "source": [
    "targets = ['comp.graphics', 'sci.space']\n",
    "train = fetch_20newsgroups(subset='train', categories=targets, shuffle=True, random_state=42) \n",
    "# train"
   ]
  },
  {
   "cell_type": "code",
   "execution_count": 3,
   "metadata": {
    "colab": {
     "base_uri": "https://localhost:8080/"
    },
    "id": "QuO7fVGn6YH3",
    "outputId": "60186f39-90a4-4a20-ee4b-2613688c6aa3"
   },
   "outputs": [
    {
     "data": {
      "text/plain": [
       "['comp.graphics', 'sci.space']"
      ]
     },
     "execution_count": 3,
     "metadata": {},
     "output_type": "execute_result"
    }
   ],
   "source": [
    "list(train.target_names) #target names"
   ]
  },
  {
   "cell_type": "code",
   "execution_count": 4,
   "metadata": {
    "colab": {
     "base_uri": "https://localhost:8080/"
    },
    "id": "kVNp82016aLn",
    "outputId": "d8e2d2a3-1f85-4c61-d2d6-0885054e4b2b"
   },
   "outputs": [
    {
     "data": {
      "text/plain": [
       "1177"
      ]
     },
     "execution_count": 4,
     "metadata": {},
     "output_type": "execute_result"
    }
   ],
   "source": [
    "len(train.target) "
   ]
  },
  {
   "cell_type": "code",
   "execution_count": 5,
   "metadata": {
    "colab": {
     "base_uri": "https://localhost:8080/"
    },
    "id": "jd0D-UU76bDn",
    "outputId": "d259c094-8c21-4ca7-8289-4c351f46513b"
   },
   "outputs": [
    {
     "data": {
      "text/plain": [
       "array([0, 1, 0, 1, 1, 0, 0, 1, 0, 0], dtype=int64)"
      ]
     },
     "execution_count": 5,
     "metadata": {},
     "output_type": "execute_result"
    }
   ],
   "source": [
    "train.target[:10]"
   ]
  },
  {
   "cell_type": "code",
   "execution_count": 6,
   "metadata": {
    "colab": {
     "base_uri": "https://localhost:8080/"
    },
    "id": "3drrKQtH6b3H",
    "outputId": "7680f5f1-fff2-4691-8515-f906206e95df"
   },
   "outputs": [
    {
     "name": "stderr",
     "output_type": "stream",
     "text": [
      "[nltk_data] Downloading package punkt to\n",
      "[nltk_data]     C:\\Users\\demet\\AppData\\Roaming\\nltk_data...\n",
      "[nltk_data]   Package punkt is already up-to-date!\n"
     ]
    },
    {
     "data": {
      "text/plain": [
       "True"
      ]
     },
     "execution_count": 6,
     "metadata": {},
     "output_type": "execute_result"
    }
   ],
   "source": [
    "#imports for data cleaning\n",
    "import nltk\n",
    "from nltk.corpus import stopwords\n",
    "nltk.download('punkt')"
   ]
  },
  {
   "cell_type": "code",
   "execution_count": 2,
   "metadata": {
    "colab": {
     "base_uri": "https://localhost:8080/"
    },
    "id": "bRHZTmGDEYju",
    "outputId": "2a743503-4660-474c-bdda-038536275c7d"
   },
   "outputs": [],
   "source": [
    "#train.data"
   ]
  },
  {
   "cell_type": "code",
   "execution_count": 8,
   "metadata": {
    "id": "a4WKnKHr6dJ_"
   },
   "outputs": [],
   "source": [
    "from sklearn.feature_extraction.text import CountVectorizer"
   ]
  },
  {
   "cell_type": "code",
   "execution_count": 9,
   "metadata": {
    "id": "XuDGa82p6ec_"
   },
   "outputs": [],
   "source": [
    "from nltk.stem.porter import PorterStemmer\n",
    "\n",
    "#data cleaning for stemmer,numbers,punctuations..\n",
    "def clear_(d):\n",
    "    for i in range(len(d)):\n",
    "        t=\"\"\n",
    "        d[i]=d[i].replace(\"\\n\", \" \")\n",
    "        d[i]=d[i].replace(\"\\t\", \" \")\n",
    "        punctuations = '''!()-[]{};:'\"\\,<>/?|=#$%^+&*_~'''\n",
    "        for character in punctuations:\n",
    "            d[i]=d[i].replace(character, \" \")\n",
    "\n",
    "        for word in d[i].split():\n",
    "            num=False\n",
    "\n",
    "            for h in [\"0\",\"1\",\"2\",\"3\",\"4\",\"5\",\"6\",\"7\",\"8\",\"9\",\"@\"]:\n",
    "                if h in word.lower():\n",
    "                    num=True\n",
    "            word=word.replace(\".\", \"\")\n",
    "            for x in [\"cc\",\"from\",\"re\",\"lines\",\"subject\",\"sender\",\"nntp\",\"posting\",\"host\",\"phone\",\"fax\",\"email\"]:\n",
    "                if x == word.lower(): \n",
    "                    num=True    \n",
    "            word=PorterStemmer().stem(word)\n",
    "            if num==False:\n",
    "                t=t+\" \"+word\n",
    "        d[i]=t\n",
    "    return d"
   ]
  },
  {
   "cell_type": "code",
   "execution_count": 10,
   "metadata": {
    "id": "dqSh0TkzLfc5"
   },
   "outputs": [],
   "source": [
    "train.data=clear_(train.data) #clean train data"
   ]
  },
  {
   "cell_type": "code",
   "execution_count": 11,
   "metadata": {
    "colab": {
     "base_uri": "https://localhost:8080/",
     "height": 53
    },
    "id": "pgMQQkABAf8-",
    "outputId": "6f7d844f-7df7-433f-e398-6245a762f033"
   },
   "outputs": [
    {
     "data": {
      "text/plain": [
       "' allen B thine algorithm organ purdu univers In articl kevin shin write I am tri obtain program to preprocess handwrit charact like thine algorithm graph alogrithm Do anyon know where I can obtain those I usual use algorithm for graphic and imag process by theodosio pavlidi but other peopl here got them same idea and now of copi in the librari have been stolen anoth refer is digit imag process by gonzalez and wintz wood which is wide avail but a littl expens here I just check today  ab'"
      ]
     },
     "execution_count": 11,
     "metadata": {},
     "output_type": "execute_result"
    }
   ],
   "source": [
    "train.data[0] #example of clean data"
   ]
  },
  {
   "cell_type": "code",
   "execution_count": 12,
   "metadata": {
    "colab": {
     "base_uri": "https://localhost:8080/"
    },
    "id": "jRtyMK2P6ir2",
    "outputId": "f2dccfe8-29c6-4287-9484-0c00cc51c5ed"
   },
   "outputs": [
    {
     "data": {
      "text/plain": [
       "(1177, 13803)"
      ]
     },
     "execution_count": 12,
     "metadata": {},
     "output_type": "execute_result"
    }
   ],
   "source": [
    "count_vect = CountVectorizer(stop_words='english', lowercase=True)\n",
    "X_train_counts = count_vect.fit_transform(train.data)\n",
    "X_train_counts.shape"
   ]
  },
  {
   "cell_type": "code",
   "execution_count": 13,
   "metadata": {
    "id": "gVhO9-WL6m_u"
   },
   "outputs": [],
   "source": [
    "test = fetch_20newsgroups(subset='test', categories=targets, shuffle=True, random_state=42) #read test data"
   ]
  },
  {
   "cell_type": "code",
   "execution_count": 14,
   "metadata": {
    "colab": {
     "base_uri": "https://localhost:8080/"
    },
    "id": "oSXwSLdJyXHK",
    "outputId": "1b9b1bf7-79d8-4e1c-ad6e-dc9b64d0c06f"
   },
   "outputs": [
    {
     "data": {
      "text/plain": [
       "(1177, 13803)"
      ]
     },
     "execution_count": 14,
     "metadata": {},
     "output_type": "execute_result"
    }
   ],
   "source": [
    "from sklearn.feature_extraction.text import TfidfTransformer\n",
    "tf_transformer = TfidfTransformer(use_idf=False).fit(X_train_counts)\n",
    "X_train_tf = tf_transformer.transform(X_train_counts)\n",
    "X_train_tf.shape"
   ]
  },
  {
   "cell_type": "code",
   "execution_count": 15,
   "metadata": {
    "id": "QsgbHz5cyXih"
   },
   "outputs": [],
   "source": [
    "df_train2=pd.DataFrame(X_train_tf.toarray(),columns=count_vect.get_feature_names()) #convert df"
   ]
  },
  {
   "cell_type": "code",
   "execution_count": 16,
   "metadata": {
    "id": "qVau7V0EZlM2"
   },
   "outputs": [],
   "source": [
    "# choose 40 feature(word) the most impact on the target\n",
    "df_train2[\"tar_\"]=train.target\n",
    "colmns=df_train2.corr().abs()[\"tar_\"].sort_values(ascending=False)[:40]\n",
    "df_train2=df_train2[colmns.index]\n",
    "df_train2.drop(\"tar_\",axis=1, inplace=True)"
   ]
  },
  {
   "cell_type": "code",
   "execution_count": 17,
   "metadata": {
    "id": "iOCesK9amSsq"
   },
   "outputs": [],
   "source": [
    "#convert to binary (include the word or not)\n",
    "for each in df_train2.columns:\n",
    "    df_train2[each]=[0 if i==0 else 1 for i in df_train2[each]]"
   ]
  },
  {
   "cell_type": "code",
   "execution_count": 18,
   "metadata": {
    "id": "Atxzbq1rL1K6"
   },
   "outputs": [],
   "source": [
    "class Node:\n",
    "    def __init__(self):\n",
    "        self.childs=[]\n",
    "        self.key=None #attribute names\n",
    "        self.depth=None #depth\n",
    "        self.category=[] #for unique values of attributes"
   ]
  },
  {
   "cell_type": "code",
   "execution_count": 19,
   "metadata": {
    "id": "1CoX-4mGL6d9"
   },
   "outputs": [],
   "source": [
    "#entropy, x:attribute name, y:newsgroup\n",
    "def ent(df1,x,y):\n",
    "    summ=0\n",
    "  #a for pEach0*math.log2(pEach0) b for pEach1*math.log2(pEach1)\n",
    "    a=0\n",
    "    b=0 \n",
    "    for each in df1[x].unique():\n",
    "        pEach=len(df1[df1[x]==each])/len(df1)\n",
    "        pEach0=len(df1[(df1[x]==each) & (df1[y]==0)])/len(df1[df1[x]==each])\n",
    "        pEach1=len(df1[(df1[x]==each) & (df1[y]==1)])/len(df1[df1[x]==each])\n",
    "        if pEach0!=0:\n",
    "            a=pEach0*math.log2(pEach0)\n",
    "        if pEach1!=0:\n",
    "            b=pEach1*math.log2(pEach1)\n",
    "        summ+= -(pEach*(a+b))        \n",
    "    return summ #h(x)"
   ]
  },
  {
   "cell_type": "code",
   "execution_count": 20,
   "metadata": {
    "id": "iGcEeytXL7qX"
   },
   "outputs": [],
   "source": [
    "#information gain(x,s)= hs-hx\n",
    "\n",
    "def info_gain(df,y):\n",
    "    hs=0\n",
    "    #probabilities for class entropy\n",
    "    if len(df[df[y]==0])>0 and len(df[df[y]==1])>0:\n",
    "        p0=len(df[df[y]==0])/len(df)\n",
    "        p1=len(df[df[y]==1])/len(df)\n",
    "        hs=-(p0*math.log2(p0)+ p1*math.log2(p1))\n",
    "\n",
    "    elif len(df[df[y]==0])<=0 and len(df[df[y]==1])>0:\n",
    "    #class entropy\n",
    "        p1=len(df[df[y]==1])/len(df)\n",
    "        hs=-(p1*math.log2(p1))\n",
    "    elif len(df[df[y]==0])>0 and len(df[df[y]==1])<=0:\n",
    "        p0=len(df[df[y]==0])/len(df)\n",
    "        hs=-(p0*math.log2(p0))\n",
    "\n",
    "    #information gains of each attributes\n",
    "    info_gain={}\n",
    "    for each in df.iloc[:,:-1].columns:\n",
    "        hx=ent(df,each,y)\n",
    "        info_gain[each]=hs-hx\n",
    "    #return attribute with max information gain    \n",
    "    return sorted(info_gain.items(), key=lambda item: item[1])[-1][0]\n"
   ]
  },
  {
   "cell_type": "code",
   "execution_count": 21,
   "metadata": {
    "id": "2ZCFRDXLL85p"
   },
   "outputs": [],
   "source": [
    "#y: \"newsgroup\"\n",
    "def decisiontree_(df1,y_train,y,maxd):\n",
    "    df=df1.copy()\n",
    "    df[y]=y_train\n",
    "\n",
    "    data=info_gain(df,y) #return attribute with max info. gain\n",
    "\n",
    "    root=Node() #root node of tree\n",
    "    root.key=data #attribute with max info. gain or min gini\n",
    "    root.depth=1\n",
    "    for each in df[root.key].unique():\n",
    "        tree_insert(root,df,each,y,maxd)\n",
    "        root.category.append(each) \n",
    "    return root\n",
    "\n",
    "def tree_insert(parent,df,each,y,maxd):\n",
    "\n",
    "    node=Node() #create new node\n",
    "    df_new=df[df[parent.key]==each]\n",
    "    df_new=df_new.drop([parent.key], axis=1)\n",
    "    #if all 0 or 1 \n",
    "    if len(df_new[y].unique())==1:\n",
    "        node.key=df_new[y].unique()[0]\n",
    "        parent.childs.append(node)\n",
    "    #there are still different values(0 and 1) \n",
    "    else:\n",
    "      #max depth\n",
    "        if parent.depth==maxd:\n",
    "            node.key=df_new[y].value_counts().index[0] # predict has max value counts\n",
    "            parent.childs.append(node)\n",
    "        #continue to fill tree\n",
    "        else:\n",
    "            \n",
    "            node.key=info_gain(df_new,y) #return attribute with max info. gain\n",
    "            node.depth=parent.depth+1\n",
    "            parent.childs.append(node)\n",
    "\n",
    "            for ii in df_new[node.key].unique():\n",
    "                tree_insert(node,df_new,ii,y,maxd)\n",
    "                node.category.append(ii)"
   ]
  },
  {
   "cell_type": "code",
   "execution_count": 22,
   "metadata": {
    "id": "haYJAioJME-y"
   },
   "outputs": [],
   "source": [
    "def show(r,bosluk): #tree print\n",
    "    \n",
    "    bosluk+=1\n",
    "    c=0\n",
    "    for each in r.childs:\n",
    "        if bosluk==1:\n",
    "            print(r.key)\n",
    "        if (each.key!=1) and (each.key!=0):\n",
    "            print(\"        \" *bosluk,\" = \",r.category[c] ,\"|\",each.key)\n",
    "            show(each,bosluk)\n",
    "        else:\n",
    "            print(\"        \" *bosluk,\" = \",r.category[c],\":\",each.key)\n",
    "        c+=1\n",
    "    "
   ]
  },
  {
   "cell_type": "code",
   "execution_count": 23,
   "metadata": {
    "id": "RUmFmAryMGVV"
   },
   "outputs": [],
   "source": [
    "#create models with different max depth values\n",
    "\n",
    "r=[]\n",
    "\n",
    "for each in [4,5,6,7,8,9,10,11,12,13,17,15,16,17,18,19,20,21,22,23,24,25,26,27,28,29,30]:\n",
    "    r.append(decisiontree_(df_train2,train.target,\"newsgroup\",each))\n"
   ]
  },
  {
   "cell_type": "code",
   "execution_count": 24,
   "metadata": {
    "colab": {
     "base_uri": "https://localhost:8080/"
    },
    "id": "oF2EV27OMH-P",
    "outputId": "329f97fd-1c76-4146-8510-e74cacb4d097"
   },
   "outputs": [
    {
     "name": "stdout",
     "output_type": "stream",
     "text": [
      "space\n",
      "          =  0 | graphic\n",
      "                  =  1 | moon\n",
      "                          =  0 | imag\n",
      "                                  =  1 : 0\n",
      "                                  =  0 : 0\n",
      "                          =  1 : 1\n",
      "                  =  0 | orbit\n",
      "                          =  0 | pat\n",
      "                                  =  0 : 0\n",
      "                                  =  1 : 1\n",
      "                          =  1 : 1\n",
      "space\n",
      "          =  1 | graphic\n",
      "                  =  0 | file\n",
      "                          =  0 | color\n",
      "                                  =  0 : 1\n",
      "                                  =  1 : 1\n",
      "                          =  1 | nasa\n",
      "                                  =  1 : 1\n",
      "                                  =  0 : 0\n",
      "                  =  1 | lunar\n",
      "                          =  0 | launch\n",
      "                                  =  0 : 0\n",
      "                                  =  1 : 0\n",
      "                          =  1 : 1\n"
     ]
    }
   ],
   "source": [
    "#show tree for max depth=4\n",
    "bosluk=0            \n",
    "show(r[0],bosluk)   "
   ]
  },
  {
   "cell_type": "code",
   "execution_count": 25,
   "metadata": {
    "colab": {
     "base_uri": "https://localhost:8080/"
    },
    "id": "kjdz46mL2zBb",
    "outputId": "5edc2a62-5487-4311-aa74-2937f9df7b4e"
   },
   "outputs": [
    {
     "name": "stdout",
     "output_type": "stream",
     "text": [
      "space\n",
      "          =  0 | graphic\n",
      "                  =  1 | moon\n",
      "                          =  0 | imag\n",
      "                                  =  1 : 0\n",
      "                                  =  0 | code\n",
      "                                          =  1 : 0\n",
      "                                          =  0 | file\n",
      "                                                  =  1 : 0\n",
      "                                                  =  0 : 0\n",
      "                          =  1 : 1\n",
      "                  =  0 | orbit\n",
      "                          =  0 | pat\n",
      "                                  =  0 | moon\n",
      "                                          =  0 | flight\n",
      "                                                  =  0 : 0\n",
      "                                                  =  1 : 1\n",
      "                                          =  1 : 1\n",
      "                                  =  1 | packag\n",
      "                                          =  1 : 0\n",
      "                                          =  0 | card\n",
      "                                                  =  0 : 1\n",
      "                                                  =  1 : 0\n",
      "                          =  1 : 1\n",
      "space\n",
      "          =  1 | graphic\n",
      "                  =  0 | file\n",
      "                          =  0 | color\n",
      "                                  =  0 | code\n",
      "                                          =  0 : 1\n",
      "                                          =  1 | launch\n",
      "                                                  =  1 : 1\n",
      "                                                  =  0 : 0\n",
      "                                  =  1 | pleas\n",
      "                                          =  1 : 0\n",
      "                                          =  0 | earth\n",
      "                                                  =  1 : 1\n",
      "                                                  =  0 : 0\n",
      "                          =  1 | nasa\n",
      "                                  =  1 : 1\n",
      "                                  =  0 | help\n",
      "                                          =  0 | high\n",
      "                                                  =  1 : 1\n",
      "                                                  =  0 : 0\n",
      "                                          =  1 : 1\n",
      "                  =  1 | lunar\n",
      "                          =  0 | launch\n",
      "                                  =  0 : 0\n",
      "                                  =  1 | card\n",
      "                                          =  1 : 0\n",
      "                                          =  0 : 1\n",
      "                          =  1 : 1\n"
     ]
    }
   ],
   "source": [
    "#show tree for max depth=6\n",
    "bosluk=0            \n",
    "show(r[2],bosluk)   "
   ]
  },
  {
   "cell_type": "code",
   "execution_count": 26,
   "metadata": {
    "colab": {
     "base_uri": "https://localhost:8080/",
     "height": 217
    },
    "id": "suDUKa2c4Gdf",
    "outputId": "320f369b-ddc4-4b21-b67d-562951bf2ccb"
   },
   "outputs": [
    {
     "data": {
      "text/html": [
       "<div>\n",
       "<style scoped>\n",
       "    .dataframe tbody tr th:only-of-type {\n",
       "        vertical-align: middle;\n",
       "    }\n",
       "\n",
       "    .dataframe tbody tr th {\n",
       "        vertical-align: top;\n",
       "    }\n",
       "\n",
       "    .dataframe thead th {\n",
       "        text-align: right;\n",
       "    }\n",
       "</style>\n",
       "<table border=\"1\" class=\"dataframe\">\n",
       "  <thead>\n",
       "    <tr style=\"text-align: right;\">\n",
       "      <th></th>\n",
       "      <th>space</th>\n",
       "      <th>graphic</th>\n",
       "      <th>orbit</th>\n",
       "      <th>file</th>\n",
       "      <th>nasa</th>\n",
       "      <th>moon</th>\n",
       "      <th>wa</th>\n",
       "      <th>year</th>\n",
       "      <th>launch</th>\n",
       "      <th>thank</th>\n",
       "      <th>...</th>\n",
       "      <th>format</th>\n",
       "      <th>articl</th>\n",
       "      <th>day</th>\n",
       "      <th>cost</th>\n",
       "      <th>pleas</th>\n",
       "      <th>spacecraft</th>\n",
       "      <th>dure</th>\n",
       "      <th>mission</th>\n",
       "      <th>earth</th>\n",
       "      <th>card</th>\n",
       "    </tr>\n",
       "  </thead>\n",
       "  <tbody>\n",
       "    <tr>\n",
       "      <th>0</th>\n",
       "      <td>2</td>\n",
       "      <td>0</td>\n",
       "      <td>0</td>\n",
       "      <td>0</td>\n",
       "      <td>0</td>\n",
       "      <td>0</td>\n",
       "      <td>1</td>\n",
       "      <td>1</td>\n",
       "      <td>0</td>\n",
       "      <td>1</td>\n",
       "      <td>...</td>\n",
       "      <td>0</td>\n",
       "      <td>0</td>\n",
       "      <td>0</td>\n",
       "      <td>0</td>\n",
       "      <td>0</td>\n",
       "      <td>0</td>\n",
       "      <td>0</td>\n",
       "      <td>0</td>\n",
       "      <td>0</td>\n",
       "      <td>0</td>\n",
       "    </tr>\n",
       "    <tr>\n",
       "      <th>1</th>\n",
       "      <td>0</td>\n",
       "      <td>0</td>\n",
       "      <td>0</td>\n",
       "      <td>7</td>\n",
       "      <td>0</td>\n",
       "      <td>0</td>\n",
       "      <td>0</td>\n",
       "      <td>0</td>\n",
       "      <td>0</td>\n",
       "      <td>0</td>\n",
       "      <td>...</td>\n",
       "      <td>1</td>\n",
       "      <td>1</td>\n",
       "      <td>0</td>\n",
       "      <td>0</td>\n",
       "      <td>0</td>\n",
       "      <td>0</td>\n",
       "      <td>0</td>\n",
       "      <td>0</td>\n",
       "      <td>0</td>\n",
       "      <td>0</td>\n",
       "    </tr>\n",
       "    <tr>\n",
       "      <th>2</th>\n",
       "      <td>2</td>\n",
       "      <td>0</td>\n",
       "      <td>0</td>\n",
       "      <td>0</td>\n",
       "      <td>0</td>\n",
       "      <td>0</td>\n",
       "      <td>0</td>\n",
       "      <td>0</td>\n",
       "      <td>0</td>\n",
       "      <td>0</td>\n",
       "      <td>...</td>\n",
       "      <td>0</td>\n",
       "      <td>1</td>\n",
       "      <td>0</td>\n",
       "      <td>0</td>\n",
       "      <td>0</td>\n",
       "      <td>0</td>\n",
       "      <td>0</td>\n",
       "      <td>1</td>\n",
       "      <td>0</td>\n",
       "      <td>0</td>\n",
       "    </tr>\n",
       "    <tr>\n",
       "      <th>3</th>\n",
       "      <td>0</td>\n",
       "      <td>0</td>\n",
       "      <td>0</td>\n",
       "      <td>0</td>\n",
       "      <td>0</td>\n",
       "      <td>0</td>\n",
       "      <td>0</td>\n",
       "      <td>0</td>\n",
       "      <td>0</td>\n",
       "      <td>0</td>\n",
       "      <td>...</td>\n",
       "      <td>0</td>\n",
       "      <td>0</td>\n",
       "      <td>0</td>\n",
       "      <td>0</td>\n",
       "      <td>1</td>\n",
       "      <td>0</td>\n",
       "      <td>0</td>\n",
       "      <td>0</td>\n",
       "      <td>0</td>\n",
       "      <td>0</td>\n",
       "    </tr>\n",
       "    <tr>\n",
       "      <th>4</th>\n",
       "      <td>0</td>\n",
       "      <td>0</td>\n",
       "      <td>0</td>\n",
       "      <td>0</td>\n",
       "      <td>0</td>\n",
       "      <td>0</td>\n",
       "      <td>0</td>\n",
       "      <td>0</td>\n",
       "      <td>0</td>\n",
       "      <td>0</td>\n",
       "      <td>...</td>\n",
       "      <td>0</td>\n",
       "      <td>1</td>\n",
       "      <td>0</td>\n",
       "      <td>0</td>\n",
       "      <td>0</td>\n",
       "      <td>0</td>\n",
       "      <td>0</td>\n",
       "      <td>0</td>\n",
       "      <td>0</td>\n",
       "      <td>0</td>\n",
       "    </tr>\n",
       "  </tbody>\n",
       "</table>\n",
       "<p>5 rows × 39 columns</p>\n",
       "</div>"
      ],
      "text/plain": [
       "   space  graphic  orbit  file  nasa  moon  wa  year  launch  thank  ...  \\\n",
       "0      2        0      0     0     0     0   1     1       0      1  ...   \n",
       "1      0        0      0     7     0     0   0     0       0      0  ...   \n",
       "2      2        0      0     0     0     0   0     0       0      0  ...   \n",
       "3      0        0      0     0     0     0   0     0       0      0  ...   \n",
       "4      0        0      0     0     0     0   0     0       0      0  ...   \n",
       "\n",
       "   format  articl  day  cost  pleas  spacecraft  dure  mission  earth  card  \n",
       "0       0       0    0     0      0           0     0        0      0     0  \n",
       "1       1       1    0     0      0           0     0        0      0     0  \n",
       "2       0       1    0     0      0           0     0        1      0     0  \n",
       "3       0       0    0     0      1           0     0        0      0     0  \n",
       "4       0       1    0     0      0           0     0        0      0     0  \n",
       "\n",
       "[5 rows x 39 columns]"
      ]
     },
     "execution_count": 26,
     "metadata": {},
     "output_type": "execute_result"
    }
   ],
   "source": [
    "#clear test data\n",
    "test.data=clear_(test.data)\n",
    "x_test_counts=count_vect.transform(test.data)\n",
    "df_test=pd.DataFrame(x_test_counts.toarray(),columns=count_vect.get_feature_names())\n",
    "df_test=df_test[df_train2.columns]\n",
    "df_test.head()"
   ]
  },
  {
   "cell_type": "code",
   "execution_count": 27,
   "metadata": {
    "id": "xJJIAzny4zSg"
   },
   "outputs": [],
   "source": [
    "def predict(each,rt):\n",
    "\n",
    "    while (rt.key!=0) and (rt.key!=1): #until it is last node, continue\n",
    "        # print(each[rt.key])\n",
    "        try:\n",
    "            ind=rt.category.index(each[rt.key])\n",
    "        except:\n",
    "            ind=0\n",
    "        rt=rt.childs[ind]\n",
    "    return rt.key  "
   ]
  },
  {
   "cell_type": "code",
   "execution_count": 28,
   "metadata": {
    "id": "ygfFyZkX5rgi"
   },
   "outputs": [],
   "source": [
    "#convert test data to binary\n",
    "for each in df_test.columns:\n",
    "    df_test[each]=[0 if i==0 else 1 for i in df_test[each]]\n",
    "\n"
   ]
  },
  {
   "cell_type": "code",
   "execution_count": 29,
   "metadata": {
    "id": "7pzlJr68tNy6"
   },
   "outputs": [],
   "source": [
    "#predict test values\n",
    "preds=[]\n",
    "for x in range(len(r)):\n",
    "    y_pred=[]\n",
    "    for i,row in df_test.iterrows():\n",
    "        y_pred.append(predict(row,r[x])) \n",
    "    preds.append(y_pred)"
   ]
  },
  {
   "cell_type": "code",
   "execution_count": 30,
   "metadata": {
    "id": "rShTrwPZDDbR"
   },
   "outputs": [],
   "source": [
    "from sklearn.metrics import accuracy_score"
   ]
  },
  {
   "cell_type": "code",
   "execution_count": 31,
   "metadata": {
    "colab": {
     "base_uri": "https://localhost:8080/"
    },
    "id": "j9PtzPcvDlCL",
    "outputId": "ca87d1c3-8b82-4ad1-8882-cf53cb28c334"
   },
   "outputs": [
    {
     "name": "stdout",
     "output_type": "stream",
     "text": [
      "max depth:  4  accuracy:  0.8071519795657727\n",
      "max depth:  5  accuracy:  0.8212005108556832\n",
      "max depth:  6  accuracy:  0.8237547892720306\n",
      "max depth:  7  accuracy:  0.842911877394636\n",
      "max depth:  8  accuracy:  0.842911877394636\n",
      "max depth:  9  accuracy:  0.8531289910600255\n",
      "max depth:  10  accuracy:  0.8531289910600255\n",
      "max depth:  11  accuracy:  0.8492975734355045\n",
      "max depth:  12  accuracy:  0.8582375478927203\n",
      "max depth:  13  accuracy:  0.8659003831417624\n",
      "max depth:  14  accuracy:  0.8722860791826309\n",
      "max depth:  15  accuracy:  0.8684546615581098\n",
      "max depth:  16  accuracy:  0.8710089399744572\n",
      "max depth:  17  accuracy:  0.8722860791826309\n",
      "max depth:  18  accuracy:  0.8748403575989783\n",
      "max depth:  19  accuracy:  0.876117496807152\n",
      "max depth:  20  accuracy:  0.8722860791826309\n",
      "max depth:  21  accuracy:  0.8735632183908046\n",
      "max depth:  22  accuracy:  0.8735632183908046\n",
      "max depth:  23  accuracy:  0.8735632183908046\n",
      "max depth:  24  accuracy:  0.8735632183908046\n",
      "max depth:  25  accuracy:  0.8735632183908046\n",
      "max depth:  26  accuracy:  0.8735632183908046\n",
      "max depth:  27  accuracy:  0.8735632183908046\n",
      "max depth:  28  accuracy:  0.8735632183908046\n",
      "max depth:  29  accuracy:  0.8735632183908046\n",
      "max depth:  30  accuracy:  0.8735632183908046\n"
     ]
    }
   ],
   "source": [
    "#calculate accuracy\n",
    "acc_tst=[]\n",
    "\n",
    "mxdpth=4 #test\n",
    "for x in range(len(preds)):\n",
    "    ac=accuracy_score(test.target,preds[x])\n",
    "    acc_tst.append(ac)\n",
    "    print(\"max depth: \",mxdpth,\" accuracy: \",ac)\n",
    "    mxdpth+=1\n"
   ]
  },
  {
   "cell_type": "code",
   "execution_count": 32,
   "metadata": {
    "colab": {
     "base_uri": "https://localhost:8080/"
    },
    "id": "O-CYONo-6dSI",
    "outputId": "e6e0d17c-da81-4609-dec5-790f450468d6"
   },
   "outputs": [
    {
     "name": "stdout",
     "output_type": "stream",
     "text": [
      "max depth:  4  accuracy:  0.8360237892948174\n",
      "max depth:  5  accuracy:  0.8691588785046729\n",
      "max depth:  6  accuracy:  0.8946474086661003\n",
      "max depth:  7  accuracy:  0.9107901444350043\n",
      "max depth:  8  accuracy:  0.9107901444350043\n",
      "max depth:  9  accuracy:  0.9201359388275276\n",
      "max depth:  10  accuracy:  0.9218351741716228\n",
      "max depth:  11  accuracy:  0.9252336448598131\n",
      "max depth:  12  accuracy:  0.9328802039082413\n",
      "max depth:  13  accuracy:  0.9405267629566695\n",
      "max depth:  14  accuracy:  0.9583687340696686\n",
      "max depth:  15  accuracy:  0.9507221750212405\n",
      "max depth:  16  accuracy:  0.9549702633814783\n",
      "max depth:  17  accuracy:  0.9583687340696686\n",
      "max depth:  18  accuracy:  0.9634664401019541\n",
      "max depth:  19  accuracy:  0.9685641461342396\n",
      "max depth:  20  accuracy:  0.973661852166525\n",
      "max depth:  21  accuracy:  0.9745114698385726\n",
      "max depth:  22  accuracy:  0.9745114698385726\n",
      "max depth:  23  accuracy:  0.9753610875106202\n",
      "max depth:  24  accuracy:  0.9753610875106202\n",
      "max depth:  25  accuracy:  0.9753610875106202\n",
      "max depth:  26  accuracy:  0.9753610875106202\n",
      "max depth:  27  accuracy:  0.9753610875106202\n",
      "max depth:  28  accuracy:  0.9753610875106202\n",
      "max depth:  29  accuracy:  0.9753610875106202\n",
      "max depth:  30  accuracy:  0.9753610875106202\n"
     ]
    }
   ],
   "source": [
    "#predict train values\n",
    "prd_t=[]\n",
    "for x in range(len(r)):\n",
    "    y_pred=[]\n",
    "    for i,row in df_train2.iterrows():\n",
    "        y_pred.append(predict(row,r[x]))\n",
    "    prd_t.append(y_pred)\n",
    "\n",
    "\n",
    "#calculate train accuracy\n",
    "acc_tr=[]\n",
    "mxdpth=4 \n",
    "for x in range(len(prd_t)):\n",
    "    ac=accuracy_score(train.target,prd_t[x])\n",
    "    acc_tr.append(ac)\n",
    "    print(\"max depth: \",mxdpth,\" accuracy: \", ac)\n",
    "    mxdpth+=1"
   ]
  },
  {
   "cell_type": "code",
   "execution_count": 33,
   "metadata": {
    "colab": {
     "base_uri": "https://localhost:8080/"
    },
    "id": "A6IlNu7pHG0O",
    "outputId": "d5027b1b-7faa-438e-8f22-d71dc6b52fe2"
   },
   "outputs": [
    {
     "name": "stdout",
     "output_type": "stream",
     "text": [
      "0.8058748403575989\n",
      "0.8199233716475096\n",
      "0.8275862068965517\n",
      "0.8441890166028098\n",
      "0.842911877394636\n",
      "0.8569604086845466\n",
      "0.855683269476373\n",
      "0.855683269476373\n",
      "0.8633461047254151\n",
      "0.8480204342273308\n",
      "0.8671775223499362\n",
      "0.8403575989782887\n",
      "0.8467432950191571\n",
      "0.8684546615581098\n",
      "0.8505747126436781\n",
      "0.8620689655172413\n",
      "0.8620689655172413\n",
      "0.8582375478927203\n",
      "0.8620689655172413\n",
      "0.8684546615581098\n",
      "0.8659003831417624\n",
      "0.8710089399744572\n",
      "0.8633461047254151\n",
      "0.8671775223499362\n",
      "0.8646232439335888\n",
      "0.8646232439335888\n",
      "0.8659003831417624\n"
     ]
    }
   ],
   "source": [
    "#use decision tree in sklearn\n",
    "from sklearn import tree\n",
    "\n",
    "for each in [4,5,6,7,8,9,10,11,12,13,17,15,16,17,18,19,20,21,22,23,24,25,26,27,28,29,30]:\n",
    "    model = tree.DecisionTreeClassifier(criterion=\"entropy\",max_depth=each)  #with information gain\n",
    "    clf = model.fit(df_train2,train.target)\n",
    "    y_p=clf.predict(df_test)\n",
    "    print(accuracy_score(test.target, y_p))"
   ]
  },
  {
   "cell_type": "code",
   "execution_count": 34,
   "metadata": {
    "id": "gIQFjBf5HVkm"
   },
   "outputs": [],
   "source": [
    "# from sklearn.pipeline import Pipeline\n",
    "# from sklearn.tree import DecisionTreeClassifier\n",
    "# from sklearn.feature_extraction.text import TfidfTransformer\n",
    "# text_clf = Pipeline([('vect', CountVectorizer(stop_words='english')),('tfidf', TfidfTransformer()),('clf', DecisionTreeClassifier(criterion=\"entropy\"))])\n",
    "# text_clf.fit(train.data, train.target)\n",
    "# f=text_clf.predict(test.data)\n",
    "# accuracy_score(test.target, f)"
   ]
  },
  {
   "cell_type": "code",
   "execution_count": 35,
   "metadata": {
    "id": "VueiLP1PFuAT"
   },
   "outputs": [],
   "source": [
    "#graph for accuracies with max depths\n",
    "import matplotlib.pyplot as plt"
   ]
  },
  {
   "cell_type": "code",
   "execution_count": 36,
   "metadata": {
    "colab": {
     "base_uri": "https://localhost:8080/",
     "height": 392
    },
    "id": "Fjq8DBf89R6Q",
    "outputId": "f4f06d5e-072d-4afa-ab00-cf1602f606ef"
   },
   "outputs": [
    {
     "data": {
      "image/png": "[encoded data removed]",
      "text/plain": [
       "<Figure size 864x432 with 1 Axes>"
      ]
     },
     "metadata": {
      "needs_background": "light"
     },
     "output_type": "display_data"
    }
   ],
   "source": [
    "fig, ax = plt.subplots(figsize=(12, 6))\n",
    "\n",
    "x=[4,5,6,7,8,9,10,11,12,13,17,15,16,17,18,19,20,21,22,23,24,25,26,27,28,29,30]\n",
    "\n",
    "plt.plot(x, acc_tr, label = \"train\")\n",
    "plt.plot(x, acc_tst, label = \"test\")\n",
    "\n",
    "plt.xlabel('max-depths')\n",
    "plt.ylabel('accuracy')\n",
    "\n",
    "ax.set_ylim([0.7, 1])\n",
    "ax.set_xlim([4, 22])\n",
    "\n",
    "plt.show()"
   ]
  },
  {
   "cell_type": "code",
   "execution_count": 1,
   "metadata": {
    "id": "IeSWVlNJGtVe"
   },
   "outputs": [],
   "source": [
    "#show tree for max depth=19 (max test accuracy) = r[15]\n",
    "#bosluk=0            \n",
    "#show(r[15],bosluk)   "
   ]
  },
  {
   "cell_type": "code",
   "execution_count": null,
   "metadata": {},
   "outputs": [],
   "source": []
  }
 ],
 "metadata": {
  "colab": {
   "collapsed_sections": [],
   "name": "Untitled1.ipynb",
   "provenance": []
  },
  "kernelspec": {
   "display_name": "Python 3",
   "language": "python",
   "name": "python3"
  },
  "language_info": {
   "codemirror_mode": {
    "name": "ipython",
    "version": 3
   },
   "file_extension": ".py",
   "mimetype": "text/x-python",
   "name": "python",
   "nbconvert_exporter": "python",
   "pygments_lexer": "ipython3",
   "version": "3.8.5"
  }
 },
 "nbformat": 4,
 "nbformat_minor": 1
}
